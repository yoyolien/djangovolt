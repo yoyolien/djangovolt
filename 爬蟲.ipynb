{
 "cells": [
  {
   "cell_type": "code",
   "execution_count": 3,
   "metadata": {},
   "outputs": [],
   "source": [
    "import requests\n",
    "import csv\n",
    "from bs4 import BeautifulSoup"
   ]
  },
  {
   "cell_type": "code",
   "execution_count": 28,
   "metadata": {},
   "outputs": [],
   "source": [
    "# 進行網頁請求\n",
    "url = 'https://movies.yahoo.com.tw/movie_thisweek.html'\n",
    "response = requests.get(url=url)\n",
    " \n",
    "soup = BeautifulSoup(response.text, 'lxml')"
   ]
  },
  {
   "cell_type": "code",
   "execution_count": 29,
   "metadata": {},
   "outputs": [],
   "source": [
    "info_items = soup.find_all('div', 'release_info')"
   ]
  },
  {
   "cell_type": "code",
   "execution_count": 32,
   "metadata": {},
   "outputs": [
    {
     "name": "stdout",
     "output_type": "stream",
     "text": [
      "初戀慢半拍(Mama Boy) 上映日：2022-08-26 期待度：96%\n",
      "北齋：浮世繪傳奇(Hokusai) 上映日：2022-08-26 期待度：100%\n",
      "探戈行不行(Tango Shalom) 上映日：2022-08-26 期待度：94%\n",
      "獵首密令(Hunt) 上映日：2022-08-26 期待度：89%\n",
      "孤兒怨2：最黑暗的過去(Orphan: First Kill) 上映日：2022-08-26 期待度：96%\n",
      "蝙狐俠：英雄覺醒(Superwho?) 上映日：2022-08-26 期待度：97%\n",
      "美國女孩的日本日記(Leonie) 上映日：2022-08-26 期待度：100%\n",
      "特『刀劍亂舞-花丸-』～月之卷～(Touken Ranbu Hanamaru Season 3: Tsuki No Maki) 上映日：2022-08-26 期待度：80%\n",
      "大獲拳勝(The Champion Of Auschwitz) 上映日：2022-08-26 期待度：100%\n",
      "金甲部隊(Full Metal Jacket) 上映日：2022-08-26 期待度：75%\n"
     ]
    }
   ],
   "source": [
    "for item in info_items:\n",
    "    name = item.find('div', 'release_movie_name').a.text.strip()\n",
    "    english_name = item.find('div', 'en').a.text.strip()\n",
    "    release_time = item.find('div', 'release_movie_time').text.split('：')[-1].strip()\n",
    "    level = item.find('div', 'leveltext').span.text.strip()\n",
    "    \n",
    "    print('{}({}) 上映日：{} 期待度：{}'.format(name, english_name, release_time, level))"
   ]
  },
  {
   "cell_type": "code",
   "execution_count": 31,
   "metadata": {},
   "outputs": [],
   "source": [
    "info_items = soup.find_all('div', 'release_info')\n",
    " \n",
    "with open('本週新片.csv', 'w', encoding='utf-8', newline='') as csv_file:\n",
    "     \n",
    "    csv_writer = csv.writer(csv_file)\n",
    "    csv_writer.writerow(['電影片名', '電影英文片名', '上映時間', '網友期待度'])\n",
    " \n",
    "    for item in info_items:\n",
    " \n",
    "        name = item.find('div', 'release_movie_name').a.text.strip()\n",
    "        english_name = item.find('div', 'en').a.text.strip()\n",
    "        release_time = item.find('div', 'release_movie_time').text.split('：')[-1].strip()\n",
    "        level = item.find('div', 'leveltext').span.text.strip()\n",
    "         \n",
    "        csv_writer.writerow([name, english_name, release_time, level])"
   ]
  }
 ],
 "metadata": {
  "kernelspec": {
   "display_name": "Python 3.9.13 ('tensorflow')",
   "language": "python",
   "name": "python3"
  },
  "language_info": {
   "codemirror_mode": {
    "name": "ipython",
    "version": 3
   },
   "file_extension": ".py",
   "mimetype": "text/x-python",
   "name": "python",
   "nbconvert_exporter": "python",
   "pygments_lexer": "ipython3",
   "version": "3.9.13"
  },
  "orig_nbformat": 4,
  "vscode": {
   "interpreter": {
    "hash": "ee7d7838ef53998fd22ad7449b76e48b4013ea11e59d28ee193f2cd757746339"
   }
  }
 },
 "nbformat": 4,
 "nbformat_minor": 2
}
